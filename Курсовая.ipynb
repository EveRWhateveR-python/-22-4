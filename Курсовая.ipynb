{
  "nbformat": 4,
  "nbformat_minor": 0,
  "metadata": {
    "colab": {
      "provenance": []
    },
    "kernelspec": {
      "name": "python3",
      "display_name": "Python 3"
    },
    "language_info": {
      "name": "python"
    }
  },
  "cells": [
    {
      "cell_type": "markdown",
      "source": [
        "### <div align=\"center\">Федеральное государственное бюджетное образовательное учреждение высшего образования</div>   \n",
        "### <div align=\"center\"> «ФИНАНСОВЫЙ УНИВЕРСИТЕТ ПРИ ПРАВИТЕЛЬСТВЕ РОССИЙСКОЙ ФЕДЕРАЦИИ»</div>\n",
        "#### <div align=\"center\">Департамент анализа данных и машинного обучения</div>\n",
        "<br>\n",
        "<div align=\"center\">Пояснительная записка к курсовой работе\n",
        "по дисциплине «Технологии анализа данных и машинное обучение»\n",
        "на тему:</div>      \n",
        "<br>\n",
        "<div align=\"center\">«Разработка системы подбора комплекта мебели на основании запроса на естественном языке»</div>\n",
        "<br>\n",
        "<br>\n",
        "<div align=\"right\">Выполнил:\n",
        "\n",
        "студент группы ПМ 22-4\n",
        "\n",
        "факультета информационных технологий и\n",
        "\n",
        "анализа больших данных\n",
        "\n",
        "Зевакин И. Е.\n",
        "\n",
        "Нацчный руководитель:\n",
        "\n",
        "д.э.н., доцент, профессор</div>"
      ],
      "metadata": {
        "id": "ddB8hfkd3n8F"
      }
    },
    {
      "cell_type": "markdown",
      "source": [
        "<h3>Бизнес задача</h3>\n",
        "\n",
        "Я выбрал мебельный сайт магазина \"Шатура\". Там были взяты шкафы, стулья.\n",
        "\n",
        "Цель проекта - подборка комплекта мебели, а также для получения информации о самой мебели."
      ],
      "metadata": {
        "id": "r8x-xFk5g1-y"
      }
    },
    {
      "cell_type": "markdown",
      "source": [
        "<h2>Этапы проета</h2>\n",
        "\n",
        "1.   Написание парсера для сайта\n",
        "  - Собрать нужные данные\n",
        "2.   Предобработка данных\n",
        "  - Очистка данных\n",
        "  - Выбор определённых слов\n",
        "  - Проверка на одинаковые названия разных товаров\n",
        "  - Выявление пустых данных\n",
        "3. Подбор наилучшей мебели для клиента\n",
        "  - Векторизация данных и запроса\n",
        "  - Нахождение ближайшего вектора в данных к вектору запроса\n",
        "4. Выводы и рекомендации\n",
        "\n"
      ],
      "metadata": {
        "id": "lJpwlBiTh5L4"
      }
    },
    {
      "cell_type": "markdown",
      "source": [
        "<h3>Выполнение проекта</h3>\n",
        "\n",
        "Импортируем библиотеки:"
      ],
      "metadata": {
        "id": "-Ey2TniTjJWz"
      }
    },
    {
      "cell_type": "code",
      "source": [
        "!pip install pymorphy2"
      ],
      "metadata": {
        "colab": {
          "base_uri": "https://localhost:8080/"
        },
        "id": "wLH9sT_Wo3Xg",
        "outputId": "c0337200-b73b-4ccb-df89-0add5714c6fa"
      },
      "execution_count": 58,
      "outputs": [
        {
          "output_type": "stream",
          "name": "stdout",
          "text": [
            "Requirement already satisfied: pymorphy2 in /usr/local/lib/python3.10/dist-packages (0.9.1)\n",
            "Requirement already satisfied: dawg-python>=0.7.1 in /usr/local/lib/python3.10/dist-packages (from pymorphy2) (0.7.2)\n",
            "Requirement already satisfied: pymorphy2-dicts-ru<3.0,>=2.4 in /usr/local/lib/python3.10/dist-packages (from pymorphy2) (2.4.417127.4579844)\n",
            "Requirement already satisfied: docopt>=0.6 in /usr/local/lib/python3.10/dist-packages (from pymorphy2) (0.6.2)\n"
          ]
        }
      ]
    },
    {
      "cell_type": "code",
      "source": [
        "import pymorphy2\n",
        "import json\n",
        "from gensim.models.doc2vec import Doc2Vec, TaggedDocument\n",
        "from nltk.tokenize import word_tokenize\n",
        "from multiprocessing import cpu_count\n",
        "import nltk\n",
        "import requests as req\n",
        "from bs4 import BeautifulSoup as BS\n",
        "import pandas as pd\n",
        "import warnings\n",
        "warnings.filterwarnings(\"ignore\")\n",
        "nltk.download('punkt')\n",
        "pd.set_option('display.max_colwidth', None)"
      ],
      "metadata": {
        "colab": {
          "base_uri": "https://localhost:8080/"
        },
        "id": "3E4o_ignojkY",
        "outputId": "5a397604-cdd6-45ac-9f0e-6a4e2a05101e"
      },
      "execution_count": 59,
      "outputs": [
        {
          "output_type": "stream",
          "name": "stderr",
          "text": [
            "[nltk_data] Downloading package punkt to /root/nltk_data...\n",
            "[nltk_data]   Package punkt is already up-to-date!\n"
          ]
        }
      ]
    },
    {
      "cell_type": "markdown",
      "source": [
        "Для получения данных с сайта была испольозвана библиотека bs4."
      ],
      "metadata": {
        "id": "EJ1-QmI6psGv"
      }
    },
    {
      "cell_type": "code",
      "source": [
        "headers = {\n",
        "    'user-agent': 'Mozilla/5.0 (Windows NT 10.0; Win64; x64) AppleWebKit/537.36 (KHTML, like Gecko) Chrome/96.0.4664.51 Safari/537.36'\n",
        "}\n",
        "\n",
        "\n",
        "class GetHtml:\n",
        "    def __get__(self, resp, _):\n",
        "        return BS(resp.text, 'lxml')\n",
        "\n",
        "\n",
        "req.Response.html = GetHtml()\n",
        "ses = req.Session()\n",
        "ses.headers = headers"
      ],
      "metadata": {
        "id": "_lrhtcwhojre"
      },
      "execution_count": 60,
      "outputs": []
    },
    {
      "cell_type": "code",
      "source": [
        "morph = pymorphy2.MorphAnalyzer(lang='ru')"
      ],
      "metadata": {
        "id": "hftlSNG4pHys"
      },
      "execution_count": 61,
      "outputs": []
    },
    {
      "cell_type": "markdown",
      "source": [
        "Далее написаны функции для парсинга."
      ],
      "metadata": {
        "id": "bywNJvUYjw2j"
      }
    },
    {
      "cell_type": "markdown",
      "source": [
        "Первая функция принимает в себя кусок ссылки из третьей функции на определённый предмет и возвращает полную ссылку на него."
      ],
      "metadata": {
        "id": "yHZDgQDbj7XW"
      }
    },
    {
      "cell_type": "code",
      "source": [
        "def parse_category(link):\n",
        "    link = 'https://www.shatura.com' + link\n",
        "    return link"
      ],
      "metadata": {
        "id": "8NYXUoiCojt3"
      },
      "execution_count": 62,
      "outputs": []
    },
    {
      "cell_type": "markdown",
      "source": [
        "Данная функция принимает в себя полную ссылку на предмет и название предмета. Вохвращает она словарь. В случае ошибки, когда html код сайта отличается от общего, выводится название предмета, который не получилось спарсить."
      ],
      "metadata": {
        "id": "NDkkdaf4kVqH"
      }
    },
    {
      "cell_type": "markdown",
      "source": [
        "В данной функции я собираю ссылку на картинку, ссылку на сам предмет, его описание, описание, которое потом пойдёт на векторизацию, цену, размеры, характеристики."
      ],
      "metadata": {
        "id": "U42vWIQ4lOu6"
      }
    },
    {
      "cell_type": "code",
      "source": [
        "def parse_good(link, good_title):\n",
        "    try:\n",
        "        html = ses.get(link, verify=False).html\n",
        "        img = html.select('.product__swiper-slider .swiper-slide')[0].get('href')\n",
        "        img = 'https://www.shatura.com' + img\n",
        "        raw_info = \"\\n\".join([k.strip() for k in html.select('.product-descr__cnt')[0].getText().strip().split('\\n')])\n",
        "        info = word_tokenize(html.select('.product-descr__cnt')[0].getText())\n",
        "        list_of_words = []\n",
        "        for word in range(len(info)):\n",
        "            if morph.parse(info[word])[0].tag.POS not in ['NPRO', 'PREP', 'ADJS', 'ADVB', 'CONJ', 'PRTS', None, 'VERB',\n",
        "                                                          'INFN', 'PRCL', 'PRED']:\n",
        "                list_of_words.append(morph.parse(info[word])[0].normal_form)\n",
        "        info = ' '.join(list_of_words) # сохраняем начальную форму некоторых частей речи для дальнейшей векторизации\n",
        "        price = html.select('.sidebar__cost .sidebar__price')[0].getText().strip()\n",
        "        characteristics_st = [chars for chars in html.select('.chars')[0].getText().split('\\n') if chars != '']\n",
        "        characteristics = []\n",
        "        size = {'Ширина': '', 'Длина': '', 'Высота': ''}\n",
        "        for char in range(len(characteristics_st)):\n",
        "            if characteristics_st[char] not in ['Коллекция', 'Стиль', 'Глубина (Ширина)', 'Длина', 'Высота',\n",
        "                                                'Производитель', 'Производственный код', 'Цвет', 'Оттенок', 'Покрытие',\n",
        "                                                'Тип полок', 'Тип фасада']:\n",
        "                characteristics.append(characteristics_st[char])\n",
        "            if characteristics_st[char] == 'Глубина (Ширина)':\n",
        "                size['Ширина'] = characteristics_st[char + 1]\n",
        "            elif characteristics_st[char] == 'Длина':\n",
        "                size['Длина'] = characteristics_st[char + 1]\n",
        "            elif characteristics_st[char] == 'Высота':\n",
        "                size['Высота'] = characteristics_st[char + 1]\n",
        "        info = good_title.capitalize() + ' ' + info + ' ' + ' '.join([' '.join([item, size[item]]) for item in size])\n",
        "        return {\"Описание\": info, \"Сырое описание\": raw_info, \"Цена\": price, \"Характеристика\": characteristics,\n",
        "                \"Размеры\": size, \"Ссылка на картинку\": img, \"Ссылка на мебель\": link}\n",
        "    except:\n",
        "        print(f\"Предмет {good_title} не получилось добавить в виду уникального html кода\")"
      ],
      "metadata": {
        "id": "5a1VgZgvpEmw"
      },
      "execution_count": 63,
      "outputs": []
    },
    {
      "cell_type": "markdown",
      "source": [
        "Последняя функция парсинга приводит в действие оставльные функции парсинга. на вход получает страницу с каталога, который надо спасить, и все предметы, которые надо будет спасить.\n",
        "\n",
        "Данная функция записывает всю информацию о предмете в указанный файл. Таким образом получается датасет, который пойдёт на обработку."
      ],
      "metadata": {
        "id": "KZsy-FwJloQs"
      }
    },
    {
      "cell_type": "code",
      "source": [
        "def return_info(link, info_list):\n",
        "    for info in range(len(info_list)):\n",
        "        info_link = parse_category(link.html.select('.card__title')[info].get('href'))\n",
        "        product_title = link.html.select('.card__title')[info].getText().lower()\n",
        "        if 'шкаф' in product_title.split()[0]:\n",
        "            information = parse_good(info_link, product_title)\n",
        "            '''file = json.load(open('shkaf.json'))\n",
        "            if product_title in file:\n",
        "                if information not in file[product_title]:\n",
        "                    file[product_title].append(information)\n",
        "            else:\n",
        "                file.update({product_title: [information]})\n",
        "            json.dump(file, open('shkaf.json', 'w'))'''"
      ],
      "metadata": {
        "id": "D_3s40HDpToZ"
      },
      "execution_count": 64,
      "outputs": []
    },
    {
      "cell_type": "markdown",
      "source": [
        "Данный код написан, чтобы проходиться по нескольким страницам каталога сразу."
      ],
      "metadata": {
        "id": "eTC8-8XCmXKE"
      }
    },
    {
      "cell_type": "code",
      "source": [
        "for i in range(10, 10+1):\n",
        "    res = ses.get(f'https://www.shatura.com/goods/groups/shkafy_stellazhi_polki/?PAGEN_1={i}', verify=False).html\n",
        "    list_of_all_types = res.html.select('.card__title')\n",
        "\n",
        "    return_info(res, list_of_all_types)"
      ],
      "metadata": {
        "id": "nFvD2BGbpLa0"
      },
      "execution_count": 65,
      "outputs": []
    },
    {
      "cell_type": "markdown",
      "source": [
        "Здесь указана мебель, которая спаршена. Она понадобится для отбора данных для векторизации.\n",
        "\n",
        "Также здесь указан пользотельский запрос."
      ],
      "metadata": {
        "id": "aWTFqV9PpoAc"
      }
    },
    {
      "cell_type": "code",
      "source": [
        "known_furniture = ['шкаф', 'гардероб',\n",
        "                   'стеллаж', 'гардеробная', 'шкаф-стеллаж', 'шкаф-витрина']\n",
        "\n",
        "morph = pymorphy2.MorphAnalyzer(lang='ru')\n",
        "\n",
        "user_request = ['Я хочу шкаф-витрину с двумя полками']\n",
        "request_furniture = []"
      ],
      "metadata": {
        "id": "EnwQOR1ypqsd"
      },
      "execution_count": 135,
      "outputs": []
    },
    {
      "cell_type": "markdown",
      "source": [
        "Функция для обработки запроса пользователя для векторизации."
      ],
      "metadata": {
        "id": "10oTre8NnbU3"
      }
    },
    {
      "cell_type": "code",
      "source": [
        "def format_request(request):\n",
        "    new_request = []\n",
        "    for k in request:\n",
        "        for word in k.split():\n",
        "            if morph.parse(word)[0].tag.POS not in ['NPRO', 'PREP', 'ADJS', 'ADVB', 'CONJ', 'PRTS', None, 'VERB',\n",
        "                                                    'INFN', 'PRCL', 'PRED']:\n",
        "                new_request.append(morph.parse(word)[0].normal_form)\n",
        "                if morph.parse(word)[0].normal_form in known_furniture:\n",
        "                    request_furniture.append(morph.parse(word)[0].normal_form)\n",
        "    return new_request\n",
        "\n",
        "formated_request = format_request(user_request)"
      ],
      "metadata": {
        "id": "5S4weYR_p4JU"
      },
      "execution_count": 129,
      "outputs": []
    },
    {
      "cell_type": "code",
      "source": [
        "if  'шкаф' in request_furniture[0]:\n",
        "  with open('shkaf.json', 'r') as f:\n",
        "      data = f.read()\n",
        "  new_data = json.loads(data)\n",
        "elif 'гардероб' in request_furniture[0]:\n",
        "  with open('garderob.json', 'r') as f:\n",
        "      data = f.read()\n",
        "  new_data = json.loads(data)\n",
        "elif 'стеллаж' in request_furniture[0]:\n",
        "  with open('stellazh.json', 'r') as f:\n",
        "      data = f.read()\n",
        "  new_data = json.loads(data)"
      ],
      "metadata": {
        "id": "hRidOgNAzYuX"
      },
      "execution_count": 130,
      "outputs": []
    },
    {
      "cell_type": "markdown",
      "source": [
        "Нахождение ключевых слов для исключения лишних данных."
      ],
      "metadata": {
        "id": "IbsF9d3uniDq"
      }
    },
    {
      "cell_type": "code",
      "source": [
        "new_list = []\n",
        "new_dict = []\n",
        "names = []\n",
        "for i in new_data:\n",
        "    for j in range(len(new_data[i])):\n",
        "        if new_data[i][j] is not None:\n",
        "            if request_furniture[0] in i and len(list(set(formated_request) & set(i.split()))) > 1:\n",
        "                new_list.append(new_data[i][j]['Описание'])\n",
        "                new_dict.append(new_data[i][j])\n",
        "                names.append(i)\n",
        "\n",
        "if not new_list:\n",
        "    for i in new_data:\n",
        "        for j in range(len(new_data[i])):\n",
        "            if new_data[i][j] is not None:\n",
        "                if request_furniture[0] in i:\n",
        "                    new_list.append(new_data[i][j]['Описание'])\n",
        "                    new_dict.append(new_data[i][j])\n",
        "                    names.append(i)"
      ],
      "metadata": {
        "id": "WHzqu78Fp-if"
      },
      "execution_count": 131,
      "outputs": []
    },
    {
      "cell_type": "code",
      "source": [
        "# Токенизация предложений и подготовка данных для обучения\n",
        "tagged_data = [TaggedDocument(words=word_tokenize(sentence.lower()), tags=[str(i)]) for i, sentence in\n",
        "               enumerate(new_list)]\n",
        "\n",
        "# Обучение модели Doc2Vec\n",
        "model = Doc2Vec(vector_size=5, min_count=2, epochs=200, window=5, workers=cpu_count())\n",
        "model.build_vocab(tagged_data)\n",
        "model.train(tagged_data, total_examples=model.corpus_count, epochs=model.epochs)"
      ],
      "metadata": {
        "id": "VR47hR51qiI_"
      },
      "execution_count": 132,
      "outputs": []
    },
    {
      "cell_type": "code",
      "source": [
        "# Получение вектора для нового предложения\n",
        "new_sentence = format_request(user_request)[0]\n",
        "new_sentence_vector = model.infer_vector(word_tokenize(new_sentence.lower()))\n",
        "\n",
        "similar_sentence = model.dv.most_similar([new_sentence_vector], topn=10)\n",
        "similar_sentence"
      ],
      "metadata": {
        "id": "gixo-ms1qm_k",
        "colab": {
          "base_uri": "https://localhost:8080/"
        },
        "outputId": "cb98a6b7-83a2-4d7d-9e4e-8432a823422e"
      },
      "execution_count": 133,
      "outputs": [
        {
          "output_type": "execute_result",
          "data": {
            "text/plain": [
              "[('4', 0.8276271820068359),\n",
              " ('5', 0.8272932171821594),\n",
              " ('2', 0.818568229675293),\n",
              " ('1', 0.815552294254303),\n",
              " ('11', 0.8104829788208008),\n",
              " ('17', 0.8063879013061523),\n",
              " ('20', 0.8039999008178711),\n",
              " ('0', 0.802068829536438),\n",
              " ('13', 0.8010880947113037),\n",
              " ('10', 0.7981353402137756)]"
            ]
          },
          "metadata": {},
          "execution_count": 133
        }
      ]
    },
    {
      "cell_type": "markdown",
      "source": [
        "Вывод полученных данных."
      ],
      "metadata": {
        "id": "14pbWVTDn2EN"
      }
    },
    {
      "cell_type": "code",
      "source": [
        "data_to_db = {}\n",
        "final_names = []\n",
        "descriptions = []\n",
        "price = []\n",
        "characteristics = []\n",
        "size = []\n",
        "img = []\n",
        "link = []\n",
        "for i in similar_sentence:\n",
        "    string = ''\n",
        "    final_names.append(names[int(i[0])].capitalize())\n",
        "    descriptions.append(new_dict[int(i[0])][\"Сырое описание\"])\n",
        "    price.append(new_dict[int(i[0])][\"Цена\"])\n",
        "    characteristics.append('\\n'.join(new_dict[int(i[0])][\"Характеристика\"]))\n",
        "    for siz in range(3):\n",
        "      string +=' '.join([k for k in new_dict[int(i[0])][\"Размеры\"].items()][siz])\n",
        "    size.append(string)\n",
        "    img.append(new_dict[int(i[0])][\"Ссылка на картинку\"])\n",
        "    link.append(new_dict[int(i[0])][\"Ссылка на мебель\"])\n",
        "data_to_db['Название'] = final_names\n",
        "data_to_db['Описание'] = descriptions\n",
        "data_to_db[\"Цена\"] = price\n",
        "data_to_db['Характеристики'] = characteristics\n",
        "data_to_db['Размеры'] = size\n",
        "data_to_db['Ссылка на картинку'] = img\n",
        "data_to_db['Ссылка на мебель'] = link\n",
        "db = pd.DataFrame(data_to_db)\n",
        "db[['Название', 'Ссылка на мебель']]"
      ],
      "metadata": {
        "colab": {
          "base_uri": "https://localhost:8080/",
          "height": 363
        },
        "id": "v8n2T0BFArbE",
        "outputId": "7d9e4102-dc77-4cec-b007-a39654040738"
      },
      "execution_count": 134,
      "outputs": [
        {
          "output_type": "execute_result",
          "data": {
            "text/plain": [
              "                                     Название  \\\n",
              "0  Шкаф-витрина одностворчатый chelsea,rimini   \n",
              "1  Шкаф-витрина одностворчатый chelsea,rimini   \n",
              "2  Шкаф-витрина одностворчатый chelsea,rimini   \n",
              "3  Шкаф-витрина одностворчатый chelsea,rimini   \n",
              "4        Шкаф-витрина одностворчатый soho беж   \n",
              "5      Шкаф-витрина одностворчатый soho белая   \n",
              "6      Шкаф-витрина одностворчатый soho белая   \n",
              "7  Шкаф-витрина одностворчатый chelsea,rimini   \n",
              "8        Шкаф-витрина одностворчатый soho беж   \n",
              "9        Шкаф-витрина одностворчатый soho беж   \n",
              "\n",
              "                                                      Ссылка на мебель  \n",
              "0  https://www.shatura.com/goods/groups/shkafy_stellazhi_polki/488166/  \n",
              "1  https://www.shatura.com/goods/groups/shkafy_stellazhi_polki/488168/  \n",
              "2  https://www.shatura.com/goods/groups/shkafy_stellazhi_polki/488165/  \n",
              "3  https://www.shatura.com/goods/groups/shkafy_stellazhi_polki/488175/  \n",
              "4  https://www.shatura.com/goods/groups/shkafy_stellazhi_polki/487062/  \n",
              "5  https://www.shatura.com/goods/groups/shkafy_stellazhi_polki/487855/  \n",
              "6  https://www.shatura.com/goods/groups/shkafy_stellazhi_polki/487858/  \n",
              "7  https://www.shatura.com/goods/groups/shkafy_stellazhi_polki/488176/  \n",
              "8  https://www.shatura.com/goods/groups/shkafy_stellazhi_polki/487058/  \n",
              "9  https://www.shatura.com/goods/groups/shkafy_stellazhi_polki/487061/  "
            ],
            "text/html": [
              "\n",
              "  <div id=\"df-19b3b2f9-1f7e-4680-b75f-6b866566ecf8\" class=\"colab-df-container\">\n",
              "    <div>\n",
              "<style scoped>\n",
              "    .dataframe tbody tr th:only-of-type {\n",
              "        vertical-align: middle;\n",
              "    }\n",
              "\n",
              "    .dataframe tbody tr th {\n",
              "        vertical-align: top;\n",
              "    }\n",
              "\n",
              "    .dataframe thead th {\n",
              "        text-align: right;\n",
              "    }\n",
              "</style>\n",
              "<table border=\"1\" class=\"dataframe\">\n",
              "  <thead>\n",
              "    <tr style=\"text-align: right;\">\n",
              "      <th></th>\n",
              "      <th>Название</th>\n",
              "      <th>Ссылка на мебель</th>\n",
              "    </tr>\n",
              "  </thead>\n",
              "  <tbody>\n",
              "    <tr>\n",
              "      <th>0</th>\n",
              "      <td>Шкаф-витрина одностворчатый chelsea,rimini</td>\n",
              "      <td>https://www.shatura.com/goods/groups/shkafy_stellazhi_polki/488166/</td>\n",
              "    </tr>\n",
              "    <tr>\n",
              "      <th>1</th>\n",
              "      <td>Шкаф-витрина одностворчатый chelsea,rimini</td>\n",
              "      <td>https://www.shatura.com/goods/groups/shkafy_stellazhi_polki/488168/</td>\n",
              "    </tr>\n",
              "    <tr>\n",
              "      <th>2</th>\n",
              "      <td>Шкаф-витрина одностворчатый chelsea,rimini</td>\n",
              "      <td>https://www.shatura.com/goods/groups/shkafy_stellazhi_polki/488165/</td>\n",
              "    </tr>\n",
              "    <tr>\n",
              "      <th>3</th>\n",
              "      <td>Шкаф-витрина одностворчатый chelsea,rimini</td>\n",
              "      <td>https://www.shatura.com/goods/groups/shkafy_stellazhi_polki/488175/</td>\n",
              "    </tr>\n",
              "    <tr>\n",
              "      <th>4</th>\n",
              "      <td>Шкаф-витрина одностворчатый soho беж</td>\n",
              "      <td>https://www.shatura.com/goods/groups/shkafy_stellazhi_polki/487062/</td>\n",
              "    </tr>\n",
              "    <tr>\n",
              "      <th>5</th>\n",
              "      <td>Шкаф-витрина одностворчатый soho белая</td>\n",
              "      <td>https://www.shatura.com/goods/groups/shkafy_stellazhi_polki/487855/</td>\n",
              "    </tr>\n",
              "    <tr>\n",
              "      <th>6</th>\n",
              "      <td>Шкаф-витрина одностворчатый soho белая</td>\n",
              "      <td>https://www.shatura.com/goods/groups/shkafy_stellazhi_polki/487858/</td>\n",
              "    </tr>\n",
              "    <tr>\n",
              "      <th>7</th>\n",
              "      <td>Шкаф-витрина одностворчатый chelsea,rimini</td>\n",
              "      <td>https://www.shatura.com/goods/groups/shkafy_stellazhi_polki/488176/</td>\n",
              "    </tr>\n",
              "    <tr>\n",
              "      <th>8</th>\n",
              "      <td>Шкаф-витрина одностворчатый soho беж</td>\n",
              "      <td>https://www.shatura.com/goods/groups/shkafy_stellazhi_polki/487058/</td>\n",
              "    </tr>\n",
              "    <tr>\n",
              "      <th>9</th>\n",
              "      <td>Шкаф-витрина одностворчатый soho беж</td>\n",
              "      <td>https://www.shatura.com/goods/groups/shkafy_stellazhi_polki/487061/</td>\n",
              "    </tr>\n",
              "  </tbody>\n",
              "</table>\n",
              "</div>\n",
              "    <div class=\"colab-df-buttons\">\n",
              "\n",
              "  <div class=\"colab-df-container\">\n",
              "    <button class=\"colab-df-convert\" onclick=\"convertToInteractive('df-19b3b2f9-1f7e-4680-b75f-6b866566ecf8')\"\n",
              "            title=\"Convert this dataframe to an interactive table.\"\n",
              "            style=\"display:none;\">\n",
              "\n",
              "  <svg xmlns=\"http://www.w3.org/2000/svg\" height=\"24px\" viewBox=\"0 -960 960 960\">\n",
              "    <path d=\"M120-120v-720h720v720H120Zm60-500h600v-160H180v160Zm220 220h160v-160H400v160Zm0 220h160v-160H400v160ZM180-400h160v-160H180v160Zm440 0h160v-160H620v160ZM180-180h160v-160H180v160Zm440 0h160v-160H620v160Z\"/>\n",
              "  </svg>\n",
              "    </button>\n",
              "\n",
              "  <style>\n",
              "    .colab-df-container {\n",
              "      display:flex;\n",
              "      gap: 12px;\n",
              "    }\n",
              "\n",
              "    .colab-df-convert {\n",
              "      background-color: #E8F0FE;\n",
              "      border: none;\n",
              "      border-radius: 50%;\n",
              "      cursor: pointer;\n",
              "      display: none;\n",
              "      fill: #1967D2;\n",
              "      height: 32px;\n",
              "      padding: 0 0 0 0;\n",
              "      width: 32px;\n",
              "    }\n",
              "\n",
              "    .colab-df-convert:hover {\n",
              "      background-color: #E2EBFA;\n",
              "      box-shadow: 0px 1px 2px rgba(60, 64, 67, 0.3), 0px 1px 3px 1px rgba(60, 64, 67, 0.15);\n",
              "      fill: #174EA6;\n",
              "    }\n",
              "\n",
              "    .colab-df-buttons div {\n",
              "      margin-bottom: 4px;\n",
              "    }\n",
              "\n",
              "    [theme=dark] .colab-df-convert {\n",
              "      background-color: #3B4455;\n",
              "      fill: #D2E3FC;\n",
              "    }\n",
              "\n",
              "    [theme=dark] .colab-df-convert:hover {\n",
              "      background-color: #434B5C;\n",
              "      box-shadow: 0px 1px 3px 1px rgba(0, 0, 0, 0.15);\n",
              "      filter: drop-shadow(0px 1px 2px rgba(0, 0, 0, 0.3));\n",
              "      fill: #FFFFFF;\n",
              "    }\n",
              "  </style>\n",
              "\n",
              "    <script>\n",
              "      const buttonEl =\n",
              "        document.querySelector('#df-19b3b2f9-1f7e-4680-b75f-6b866566ecf8 button.colab-df-convert');\n",
              "      buttonEl.style.display =\n",
              "        google.colab.kernel.accessAllowed ? 'block' : 'none';\n",
              "\n",
              "      async function convertToInteractive(key) {\n",
              "        const element = document.querySelector('#df-19b3b2f9-1f7e-4680-b75f-6b866566ecf8');\n",
              "        const dataTable =\n",
              "          await google.colab.kernel.invokeFunction('convertToInteractive',\n",
              "                                                    [key], {});\n",
              "        if (!dataTable) return;\n",
              "\n",
              "        const docLinkHtml = 'Like what you see? Visit the ' +\n",
              "          '<a target=\"_blank\" href=https://colab.research.google.com/notebooks/data_table.ipynb>data table notebook</a>'\n",
              "          + ' to learn more about interactive tables.';\n",
              "        element.innerHTML = '';\n",
              "        dataTable['output_type'] = 'display_data';\n",
              "        await google.colab.output.renderOutput(dataTable, element);\n",
              "        const docLink = document.createElement('div');\n",
              "        docLink.innerHTML = docLinkHtml;\n",
              "        element.appendChild(docLink);\n",
              "      }\n",
              "    </script>\n",
              "  </div>\n",
              "\n",
              "\n",
              "<div id=\"df-324a82f2-9270-44be-b96c-8b41980b6007\">\n",
              "  <button class=\"colab-df-quickchart\" onclick=\"quickchart('df-324a82f2-9270-44be-b96c-8b41980b6007')\"\n",
              "            title=\"Suggest charts\"\n",
              "            style=\"display:none;\">\n",
              "\n",
              "<svg xmlns=\"http://www.w3.org/2000/svg\" height=\"24px\"viewBox=\"0 0 24 24\"\n",
              "     width=\"24px\">\n",
              "    <g>\n",
              "        <path d=\"M19 3H5c-1.1 0-2 .9-2 2v14c0 1.1.9 2 2 2h14c1.1 0 2-.9 2-2V5c0-1.1-.9-2-2-2zM9 17H7v-7h2v7zm4 0h-2V7h2v10zm4 0h-2v-4h2v4z\"/>\n",
              "    </g>\n",
              "</svg>\n",
              "  </button>\n",
              "\n",
              "<style>\n",
              "  .colab-df-quickchart {\n",
              "      --bg-color: #E8F0FE;\n",
              "      --fill-color: #1967D2;\n",
              "      --hover-bg-color: #E2EBFA;\n",
              "      --hover-fill-color: #174EA6;\n",
              "      --disabled-fill-color: #AAA;\n",
              "      --disabled-bg-color: #DDD;\n",
              "  }\n",
              "\n",
              "  [theme=dark] .colab-df-quickchart {\n",
              "      --bg-color: #3B4455;\n",
              "      --fill-color: #D2E3FC;\n",
              "      --hover-bg-color: #434B5C;\n",
              "      --hover-fill-color: #FFFFFF;\n",
              "      --disabled-bg-color: #3B4455;\n",
              "      --disabled-fill-color: #666;\n",
              "  }\n",
              "\n",
              "  .colab-df-quickchart {\n",
              "    background-color: var(--bg-color);\n",
              "    border: none;\n",
              "    border-radius: 50%;\n",
              "    cursor: pointer;\n",
              "    display: none;\n",
              "    fill: var(--fill-color);\n",
              "    height: 32px;\n",
              "    padding: 0;\n",
              "    width: 32px;\n",
              "  }\n",
              "\n",
              "  .colab-df-quickchart:hover {\n",
              "    background-color: var(--hover-bg-color);\n",
              "    box-shadow: 0 1px 2px rgba(60, 64, 67, 0.3), 0 1px 3px 1px rgba(60, 64, 67, 0.15);\n",
              "    fill: var(--button-hover-fill-color);\n",
              "  }\n",
              "\n",
              "  .colab-df-quickchart-complete:disabled,\n",
              "  .colab-df-quickchart-complete:disabled:hover {\n",
              "    background-color: var(--disabled-bg-color);\n",
              "    fill: var(--disabled-fill-color);\n",
              "    box-shadow: none;\n",
              "  }\n",
              "\n",
              "  .colab-df-spinner {\n",
              "    border: 2px solid var(--fill-color);\n",
              "    border-color: transparent;\n",
              "    border-bottom-color: var(--fill-color);\n",
              "    animation:\n",
              "      spin 1s steps(1) infinite;\n",
              "  }\n",
              "\n",
              "  @keyframes spin {\n",
              "    0% {\n",
              "      border-color: transparent;\n",
              "      border-bottom-color: var(--fill-color);\n",
              "      border-left-color: var(--fill-color);\n",
              "    }\n",
              "    20% {\n",
              "      border-color: transparent;\n",
              "      border-left-color: var(--fill-color);\n",
              "      border-top-color: var(--fill-color);\n",
              "    }\n",
              "    30% {\n",
              "      border-color: transparent;\n",
              "      border-left-color: var(--fill-color);\n",
              "      border-top-color: var(--fill-color);\n",
              "      border-right-color: var(--fill-color);\n",
              "    }\n",
              "    40% {\n",
              "      border-color: transparent;\n",
              "      border-right-color: var(--fill-color);\n",
              "      border-top-color: var(--fill-color);\n",
              "    }\n",
              "    60% {\n",
              "      border-color: transparent;\n",
              "      border-right-color: var(--fill-color);\n",
              "    }\n",
              "    80% {\n",
              "      border-color: transparent;\n",
              "      border-right-color: var(--fill-color);\n",
              "      border-bottom-color: var(--fill-color);\n",
              "    }\n",
              "    90% {\n",
              "      border-color: transparent;\n",
              "      border-bottom-color: var(--fill-color);\n",
              "    }\n",
              "  }\n",
              "</style>\n",
              "\n",
              "  <script>\n",
              "    async function quickchart(key) {\n",
              "      const quickchartButtonEl =\n",
              "        document.querySelector('#' + key + ' button');\n",
              "      quickchartButtonEl.disabled = true;  // To prevent multiple clicks.\n",
              "      quickchartButtonEl.classList.add('colab-df-spinner');\n",
              "      try {\n",
              "        const charts = await google.colab.kernel.invokeFunction(\n",
              "            'suggestCharts', [key], {});\n",
              "      } catch (error) {\n",
              "        console.error('Error during call to suggestCharts:', error);\n",
              "      }\n",
              "      quickchartButtonEl.classList.remove('colab-df-spinner');\n",
              "      quickchartButtonEl.classList.add('colab-df-quickchart-complete');\n",
              "    }\n",
              "    (() => {\n",
              "      let quickchartButtonEl =\n",
              "        document.querySelector('#df-324a82f2-9270-44be-b96c-8b41980b6007 button');\n",
              "      quickchartButtonEl.style.display =\n",
              "        google.colab.kernel.accessAllowed ? 'block' : 'none';\n",
              "    })();\n",
              "  </script>\n",
              "</div>\n",
              "\n",
              "    </div>\n",
              "  </div>\n"
            ],
            "application/vnd.google.colaboratory.intrinsic+json": {
              "type": "dataframe",
              "summary": "{\n  \"name\": \"db[['\\u041d\\u0430\\u0437\\u0432\\u0430\\u043d\\u0438\\u0435', '\\u0421\\u0441\\u044b\\u043b\\u043a\\u0430 \\u043d\\u0430 \\u043c\\u0435\\u0431\\u0435\\u043b\\u044c']]\",\n  \"rows\": 10,\n  \"fields\": [\n    {\n      \"column\": \"\\u041d\\u0430\\u0437\\u0432\\u0430\\u043d\\u0438\\u0435\",\n      \"properties\": {\n        \"dtype\": \"category\",\n        \"num_unique_values\": 3,\n        \"samples\": [\n          \"\\u0428\\u043a\\u0430\\u0444-\\u0432\\u0438\\u0442\\u0440\\u0438\\u043d\\u0430 \\u043e\\u0434\\u043d\\u043e\\u0441\\u0442\\u0432\\u043e\\u0440\\u0447\\u0430\\u0442\\u044b\\u0439 chelsea,rimini\",\n          \"\\u0428\\u043a\\u0430\\u0444-\\u0432\\u0438\\u0442\\u0440\\u0438\\u043d\\u0430 \\u043e\\u0434\\u043d\\u043e\\u0441\\u0442\\u0432\\u043e\\u0440\\u0447\\u0430\\u0442\\u044b\\u0439 soho \\u0431\\u0435\\u0436\",\n          \"\\u0428\\u043a\\u0430\\u0444-\\u0432\\u0438\\u0442\\u0440\\u0438\\u043d\\u0430 \\u043e\\u0434\\u043d\\u043e\\u0441\\u0442\\u0432\\u043e\\u0440\\u0447\\u0430\\u0442\\u044b\\u0439 soho \\u0431\\u0435\\u043b\\u0430\\u044f\"\n        ],\n        \"semantic_type\": \"\",\n        \"description\": \"\"\n      }\n    },\n    {\n      \"column\": \"\\u0421\\u0441\\u044b\\u043b\\u043a\\u0430 \\u043d\\u0430 \\u043c\\u0435\\u0431\\u0435\\u043b\\u044c\",\n      \"properties\": {\n        \"dtype\": \"string\",\n        \"num_unique_values\": 10,\n        \"samples\": [\n          \"https://www.shatura.com/goods/groups/shkafy_stellazhi_polki/487058/\",\n          \"https://www.shatura.com/goods/groups/shkafy_stellazhi_polki/488168/\",\n          \"https://www.shatura.com/goods/groups/shkafy_stellazhi_polki/487855/\"\n        ],\n        \"semantic_type\": \"\",\n        \"description\": \"\"\n      }\n    }\n  ]\n}"
            }
          },
          "metadata": {},
          "execution_count": 134
        }
      ]
    },
    {
      "cell_type": "code",
      "source": [
        "while True:\n",
        "  print('1 - Название')\n",
        "  print('2 - Описание')\n",
        "  print('3 - Цена')\n",
        "  print('4 - Характеристики')\n",
        "  print('5 - Размеры')\n",
        "  print('6 - Ссылка на картинку')\n",
        "  print('7 - Ссылка на мебель')\n",
        "  print('8 - нет')\n",
        "  try:\n",
        "    user_input = input('Хотите что-нибудь узнать? (Введите цифру опции)')\n",
        "    print()\n",
        "    if user_input == '8':\n",
        "      break\n",
        "    user_input_2 = int(input('О каком прдмете хотите узнать больше? (Введите цифру прдмета в выведенном датасете)'))\n",
        "    print()\n",
        "    print()\n",
        "    if user_input == '1':\n",
        "      print(db['Название'][user_input_2])\n",
        "      print()\n",
        "      print()\n",
        "    elif user_input == '2':\n",
        "      print(db['Описание'][user_input_2])\n",
        "      print()\n",
        "      print()\n",
        "    elif user_input == '3':\n",
        "      print(db['Цена'][user_input_2])\n",
        "      print()\n",
        "      print()\n",
        "    elif user_input == '4':\n",
        "      print(db['Характеристики'][user_input_2])\n",
        "      print()\n",
        "      print()\n",
        "    elif user_input == '5':\n",
        "      print(db['Размеры'][user_input_2])\n",
        "      print()\n",
        "      print()\n",
        "    elif user_input == '6':\n",
        "      print(db['Ссылка на картинку'][user_input_2])\n",
        "      print()\n",
        "      print()\n",
        "    elif user_input == '7':\n",
        "      print(db['Ссылка на мебель'][user_input_2])\n",
        "      print()\n",
        "      print()\n",
        "  except:\n",
        "    print('Вы пытались как-то сломать меня. Пожалуйста, больше так не делаете.')\n",
        "    print()\n",
        "    print()"
      ],
      "metadata": {
        "colab": {
          "base_uri": "https://localhost:8080/"
        },
        "id": "kE7Qo6zGx3Qs",
        "outputId": "fe1b85b0-8844-4d06-ab68-4e362764aad6"
      },
      "execution_count": 136,
      "outputs": [
        {
          "output_type": "stream",
          "name": "stdout",
          "text": [
            "1 - Название\n",
            "2 - Описание\n",
            "3 - Цена\n",
            "4 - Характеристики\n",
            "5 - Размеры\n",
            "6 - Ссылка на картинку\n",
            "7 - Ссылка на мебель\n",
            "8 - нет\n",
            "Хотите что-нибудь узнать? (Введите цифру опции)1\n",
            "\n",
            "О каком прдмете хотите узнать больше? (Введите цифру прдмета в выведенном датасете)0\n",
            "\n",
            "\n",
            "Шкаф-витрина одностворчатый chelsea,rimini\n",
            "\n",
            "\n",
            "1 - Название\n",
            "2 - Описание\n",
            "3 - Цена\n",
            "4 - Характеристики\n",
            "5 - Размеры\n",
            "6 - Ссылка на картинку\n",
            "7 - Ссылка на мебель\n",
            "8 - нет\n",
            "Хотите что-нибудь узнать? (Введите цифру опции)2\n",
            "\n",
            "О каком прдмете хотите узнать больше? (Введите цифру прдмета в выведенном датасете)1\n",
            "\n",
            "\n",
            "Наша мебель производится только из экологичных, надежных и качественных материалов преимущественно ведущих европейских производителей. Мебель сертифицирована. Вся фурнитура для сборки и крепления в комплекте. Срок службы мебели - 20лет, гарантийный срок эксплуатации - до 5 лет.\n",
            "\n",
            "Описание: Шкаф-витрина подходит для хранения красивой праздничной посуды, любимых и памятных вещей, различных редких сувениров, наград, а также для зонирования комнаты и ее визуального увеличения. Шкаф-витрина с четырьмя полками гармонично сочетается с тумбой ТВА и другими изделиями данной коллекции, создавая единую стилистическую композицию. Стеклянный рамочный фасад тонирован по особой технологии, что придает ему не только необходимый оттенок, но и совершенствует его физические свойства, а также для удобства оснащен механизмом PUSH open, который откроет дверцу простым нажатием. Металлический профиль на стеклянном фасаде - черный с матовой поверхностью, на которой не остаётся следов, она надолго сохранит безупречный внешний вид. Шкаф предназначен для установки на тумбу ТВА.\n",
            "\n",
            "Материалы и характеристики:\n",
            "Фасад стеклянный - рамочный, черный металлический профиль, флоат-стекло с серой тонировкой.\n",
            "Корпус - структурированная ЛДСП 16мм. Отделка под натуральное светлое дерево \"Туя\" структура WoodLine от компании Interprint (Германия).\n",
            "\n",
            "Стенка задняя - ХДФО в цвет корпуса.\n",
            "Кромка на видимых торцах - ПВХ.\n",
            "Петли - без доводчиков.\n",
            "Механизм открывания - PUSH open, врезной.\n",
            "Максимальная нагрузка на полки - 10кг.\n",
            "\n",
            "Перед началом сборки внимательно ознакомьтесь с инструкцией.\n",
            "\n",
            "Уход - любые поверхности мебели необходимо беречь от ударов твердыми предметами во избежание появления царапин, вмятин, трещин. Пыль с поверхности удалять мягкой сухой тканью (фланель, плюш). Для освежения поверхностей полированных (неполированных), снятия с них различных загрязнений, пятен от рук применяются спиртовой раствор или специальные составы для чистки мебели типа \"Полироль\", можно также пользоваться небольшим количеством мыльного раствора с обязательной последующей протиркой сухой тканью. Не допускается использовать для очистки поверхностей средства, имеющие в составе абразивные материалы.\n",
            "\n",
            "\n",
            "1 - Название\n",
            "2 - Описание\n",
            "3 - Цена\n",
            "4 - Характеристики\n",
            "5 - Размеры\n",
            "6 - Ссылка на картинку\n",
            "7 - Ссылка на мебель\n",
            "8 - нет\n",
            "Хотите что-нибудь узнать? (Введите цифру опции)8\n",
            "\n"
          ]
        }
      ]
    },
    {
      "cell_type": "markdown",
      "source": [
        "<h2>Выводы</h2>\n",
        "\n",
        "Передо мной стояла задача вывести комплект для мебели. Он находится в описании.\n",
        "\n",
        "В ходе выполнения курсовой, я изучил множетсво сайтов, как их парсить. Также я рассмотрел библиотеку Doc2Vec для векторизации данных и нахождения ближайших к векторизированному запросу.\n",
        "\n",
        "Было построено несколько моделей, одна из которых была на полном датасете, но от неё я отказался в связи с тем, что на естественном запросе человека возмжожен непредвиденный вывод данных. В связи с этим данные были рахделены на несколько датасетов.\n",
        "\n",
        "В выводе similar_sentence можно увидеть насколько векторизированный запрос подходил под векторизированные данные прдмета.0\n"
      ],
      "metadata": {
        "id": "lQJEW_bjn-p4"
      }
    },
    {
      "cell_type": "markdown",
      "source": [
        "<h2>Рекомендации</h2>\n",
        "\n",
        "Анализ показал, что html код сайта \"Шатура\" не является наилучшим: в каких-то местах нет одного патерна html кода, нет определённого патерна описания.\n",
        "\n",
        "Изначально хотелось рассмотреть сайт \"Hoff\" или \"Яндекс маркет\", но по причине того, что сайты имели какую-то блокировку к парсингу, спарсить их не получилось.\n",
        "\n",
        "Также в отличие от \"Hoff\" и \"Яндекс маркета\" на \"Шатуре\" не было определённости в компонентах: где-то были указаны все детали, где-то было указано количество компонентов, но не всех, где-то компоненты были указаны в описании.\n",
        "\n",
        "Хочется сказать ещё, что очень важно, как пользователь будет вводить запрос. Чем меньше запрос пользователя, тем больше разброс по датасету. Поэтому рекомендуется указывать как можно быльше информации о мебели, которую хочется приобрести."
      ],
      "metadata": {
        "id": "ZLk88CTxqorc"
      }
    }
  ]
}